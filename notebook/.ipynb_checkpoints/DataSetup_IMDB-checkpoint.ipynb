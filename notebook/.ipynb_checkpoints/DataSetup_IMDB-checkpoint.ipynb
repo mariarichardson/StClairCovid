{
 "cells": [
  {
   "cell_type": "code",
   "execution_count": 1,
   "metadata": {},
   "outputs": [],
   "source": [
    "import pandas as pd\n",
    "import seaborn as sns \n",
    "import json\n",
    "sns.set(style = \"darkgrid\")"
   ]
  },
  {
   "cell_type": "code",
   "execution_count": 2,
   "metadata": {},
   "outputs": [
    {
     "name": "stderr",
     "output_type": "stream",
     "text": [
      "/Applications/anaconda3/lib/python3.8/site-packages/IPython/core/interactiveshell.py:3146: DtypeWarning: Columns (4,5) have mixed types.Specify dtype option on import or set low_memory=False.\n",
      "  has_raised = await self.run_ast_nodes(code_ast.body, cell_name,\n"
     ]
    }
   ],
   "source": [
    "#Get tv show data downloaded from imdb\n",
    "\n",
    "df = pd.read_csv('/Users/maria/Documents/GitHub/Twitter_CancelledTVShows/IMDB_Data/title.basics.tsv'\n",
    "                 , delimiter='\\t')\n"
   ]
  },
  {
   "cell_type": "code",
   "execution_count": null,
   "metadata": {},
   "outputs": [],
   "source": [
    "# title = df['titleType'].unique()\n",
    "# print(sorted(title))"
   ]
  },
  {
   "cell_type": "code",
   "execution_count": 35,
   "metadata": {},
   "outputs": [
    {
     "data": {
      "text/html": [
       "<div>\n",
       "<style scoped>\n",
       "    .dataframe tbody tr th:only-of-type {\n",
       "        vertical-align: middle;\n",
       "    }\n",
       "\n",
       "    .dataframe tbody tr th {\n",
       "        vertical-align: top;\n",
       "    }\n",
       "\n",
       "    .dataframe thead th {\n",
       "        text-align: right;\n",
       "    }\n",
       "</style>\n",
       "<table border=\"1\" class=\"dataframe\">\n",
       "  <thead>\n",
       "    <tr style=\"text-align: right;\">\n",
       "      <th></th>\n",
       "      <th>primaryTitle</th>\n",
       "      <th>originalTitle</th>\n",
       "      <th>startYear</th>\n",
       "      <th>endYear</th>\n",
       "      <th>genres</th>\n",
       "    </tr>\n",
       "  </thead>\n",
       "  <tbody>\n",
       "    <tr>\n",
       "      <th>31986</th>\n",
       "      <td>The Green Archer</td>\n",
       "      <td>The Green Archer</td>\n",
       "      <td>1940</td>\n",
       "      <td></td>\n",
       "      <td>Action,Adventure,Crime</td>\n",
       "    </tr>\n",
       "    <tr>\n",
       "      <th>38450</th>\n",
       "      <td>The Borden Show</td>\n",
       "      <td>The Borden Show</td>\n",
       "      <td>1947</td>\n",
       "      <td></td>\n",
       "      <td>Comedy,Music</td>\n",
       "    </tr>\n",
       "    <tr>\n",
       "      <th>38452</th>\n",
       "      <td>Party Line</td>\n",
       "      <td>Party Line</td>\n",
       "      <td>1946</td>\n",
       "      <td></td>\n",
       "      <td></td>\n",
       "    </tr>\n",
       "    <tr>\n",
       "      <th>39342</th>\n",
       "      <td>America Speaks</td>\n",
       "      <td>America Speaks</td>\n",
       "      <td>1948</td>\n",
       "      <td></td>\n",
       "      <td></td>\n",
       "    </tr>\n",
       "    <tr>\n",
       "      <th>39346</th>\n",
       "      <td>At Liberty Club</td>\n",
       "      <td>At Liberty Club</td>\n",
       "      <td>1948</td>\n",
       "      <td></td>\n",
       "      <td>Music</td>\n",
       "    </tr>\n",
       "    <tr>\n",
       "      <th>...</th>\n",
       "      <td>...</td>\n",
       "      <td>...</td>\n",
       "      <td>...</td>\n",
       "      <td>...</td>\n",
       "      <td>...</td>\n",
       "    </tr>\n",
       "    <tr>\n",
       "      <th>7584840</th>\n",
       "      <td>Rumpole of the Bailey</td>\n",
       "      <td>Rumpole of the Bailey</td>\n",
       "      <td></td>\n",
       "      <td></td>\n",
       "      <td></td>\n",
       "    </tr>\n",
       "    <tr>\n",
       "      <th>7584843</th>\n",
       "      <td>Kalyanam Mudhal Kadhal Varai</td>\n",
       "      <td>Kalyanam Mudhal Kadhal Varai</td>\n",
       "      <td>2014</td>\n",
       "      <td>2017</td>\n",
       "      <td>Romance</td>\n",
       "    </tr>\n",
       "    <tr>\n",
       "      <th>7584844</th>\n",
       "      <td>Lost in Food</td>\n",
       "      <td>Lost in Food</td>\n",
       "      <td>2016</td>\n",
       "      <td>2017</td>\n",
       "      <td>Talk-Show</td>\n",
       "    </tr>\n",
       "    <tr>\n",
       "      <th>7584924</th>\n",
       "      <td>Meie aasta Aafrikas</td>\n",
       "      <td>Meie aasta Aafrikas</td>\n",
       "      <td>2019</td>\n",
       "      <td></td>\n",
       "      <td>Adventure,Comedy,Family</td>\n",
       "    </tr>\n",
       "    <tr>\n",
       "      <th>7585067</th>\n",
       "      <td>Acelerados</td>\n",
       "      <td>Acelerados</td>\n",
       "      <td>2019</td>\n",
       "      <td></td>\n",
       "      <td>Comedy</td>\n",
       "    </tr>\n",
       "  </tbody>\n",
       "</table>\n",
       "<p>188014 rows × 5 columns</p>\n",
       "</div>"
      ],
      "text/plain": [
       "                         primaryTitle                 originalTitle startYear  \\\n",
       "31986                The Green Archer              The Green Archer      1940   \n",
       "38450                 The Borden Show               The Borden Show      1947   \n",
       "38452                      Party Line                    Party Line      1946   \n",
       "39342                  America Speaks                America Speaks      1948   \n",
       "39346                 At Liberty Club               At Liberty Club      1948   \n",
       "...                               ...                           ...       ...   \n",
       "7584840         Rumpole of the Bailey         Rumpole of the Bailey             \n",
       "7584843  Kalyanam Mudhal Kadhal Varai  Kalyanam Mudhal Kadhal Varai      2014   \n",
       "7584844                  Lost in Food                  Lost in Food      2016   \n",
       "7584924           Meie aasta Aafrikas           Meie aasta Aafrikas      2019   \n",
       "7585067                    Acelerados                    Acelerados      2019   \n",
       "\n",
       "        endYear                   genres  \n",
       "31986             Action,Adventure,Crime  \n",
       "38450                       Comedy,Music  \n",
       "38452                                     \n",
       "39342                                     \n",
       "39346                              Music  \n",
       "...         ...                      ...  \n",
       "7584840                                   \n",
       "7584843    2017                  Romance  \n",
       "7584844    2017                Talk-Show  \n",
       "7584924          Adventure,Comedy,Family  \n",
       "7585067                           Comedy  \n",
       "\n",
       "[188014 rows x 5 columns]"
      ]
     },
     "execution_count": 35,
     "metadata": {},
     "output_type": "execute_result"
    }
   ],
   "source": [
    "tv_series = df.query('titleType == \"tvSeries\" & endYear > \"1990\"')\n",
    "#get rid of null character\n",
    "tv_series = tv_series.replace('\\\\N', '')\n",
    "#suggest doing other things here, like capitalization, removing common words, etc. \n",
    "df_tv = pd.DataFrame(tv_series)\n",
    "df_tv.drop(columns=['tconst', 'titleType', 'isAdult', 'runtimeMinutes'], inplace =True)\n",
    "df_tv"
   ]
  },
  {
   "cell_type": "code",
   "execution_count": null,
   "metadata": {},
   "outputs": [],
   "source": [
    "# df_tv.to_csv(\"/Users/maria/Documents/GitHub/Twitter_CancelledTVShows/imdb_series.csv\", sep=\",\")"
   ]
  }
 ],
 "metadata": {
  "kernelspec": {
   "display_name": "Python 3",
   "language": "python",
   "name": "python3"
  },
  "language_info": {
   "codemirror_mode": {
    "name": "ipython",
    "version": 3
   },
   "file_extension": ".py",
   "mimetype": "text/x-python",
   "name": "python",
   "nbconvert_exporter": "python",
   "pygments_lexer": "ipython3",
   "version": "3.8.5"
  }
 },
 "nbformat": 4,
 "nbformat_minor": 4
}
